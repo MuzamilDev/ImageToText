{
 "cells": [
  {
   "cell_type": "code",
   "execution_count": 1,
   "id": "554e6ea1-46a7-4d1f-8eb5-12ae79ec91fa",
   "metadata": {},
   "outputs": [
    {
     "name": "stdout",
     "output_type": "stream",
     "text": [
      "Collecting pytesseract\n",
      "  Downloading pytesseract-0.3.13-py3-none-any.whl.metadata (11 kB)\n",
      "Requirement already satisfied: packaging>=21.3 in c:\\users\\pmyls\\appdata\\local\\programs\\python\\python312\\lib\\site-packages (from pytesseract) (24.1)\n",
      "Requirement already satisfied: Pillow>=8.0.0 in c:\\users\\pmyls\\appdata\\local\\programs\\python\\python312\\lib\\site-packages (from pytesseract) (10.4.0)\n",
      "Downloading pytesseract-0.3.13-py3-none-any.whl (14 kB)\n",
      "Installing collected packages: pytesseract\n",
      "Successfully installed pytesseract-0.3.13\n",
      "Note: you may need to restart the kernel to use updated packages.\n"
     ]
    }
   ],
   "source": [
    "pip install pytesseract"
   ]
  },
  {
   "cell_type": "code",
   "execution_count": 29,
   "id": "9f0a837d-2218-4c1d-bbc5-ac5e2cfcd866",
   "metadata": {},
   "outputs": [
    {
     "name": "stdout",
     "output_type": "stream",
     "text": [
      "),\n"
     ]
    }
   ],
   "source": [
    "from PIL import Image \n",
    "from pytesseract import pytesseract \n",
    "\n",
    "path_to_tesseract = r\"C:\\Program Files\\Tesseract-OCR\\tesseract.exe\"\n",
    "image_path = r\"csv\\design.jfif\"\n",
    "\n",
    "img = Image.open(image_path) \n",
    "\n",
    "pytesseract.tesseract_cmd = path_to_tesseract \n",
    "\n",
    "# Passing the image object to image_to_string() fu\n",
    "text = pytesseract.image_to_string(img) \n",
    "\n",
    "# Displaying the extracted text \n",
    "print(text[:-1])\n"
   ]
  },
  {
   "cell_type": "code",
   "execution_count": null,
   "id": "0a609a78-0100-4ce9-b3b2-a87d99f2b46d",
   "metadata": {},
   "outputs": [],
   "source": []
  }
 ],
 "metadata": {
  "kernelspec": {
   "display_name": "Python 3 (ipykernel)",
   "language": "python",
   "name": "python3"
  },
  "language_info": {
   "codemirror_mode": {
    "name": "ipython",
    "version": 3
   },
   "file_extension": ".py",
   "mimetype": "text/x-python",
   "name": "python",
   "nbconvert_exporter": "python",
   "pygments_lexer": "ipython3",
   "version": "3.12.4"
  }
 },
 "nbformat": 4,
 "nbformat_minor": 5
}
